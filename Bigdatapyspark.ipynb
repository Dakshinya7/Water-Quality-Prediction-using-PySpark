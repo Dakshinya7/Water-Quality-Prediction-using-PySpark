{
 "cells": [
  {
   "cell_type": "markdown",
   "id": "da105805",
   "metadata": {},
   "source": [
    "# WATER QUALITY PREDICTION"
   ]
  },
  {
   "cell_type": "markdown",
   "id": "e1081b68",
   "metadata": {},
   "source": [
    "# Importing libraries"
   ]
  },
  {
   "cell_type": "code",
   "execution_count": 2,
   "id": "498f0b99",
   "metadata": {},
   "outputs": [],
   "source": [
    "import os\n",
    "import pandas as pd\n",
    "import numpy as np\n",
    "%matplotlib inline\n",
    "import matplotlib.pyplot as plt\n",
    "import seaborn as sns\n",
    "import geopandas as gpd\n",
    "import warnings\n",
    "warnings.filterwarnings(\"ignore\")\n",
    "\n",
    "from pylab import *\n",
    "from pyspark.sql.functions import udf, concat, col, lit\n",
    "from pyspark import SparkConf, SparkContext\n",
    "from pyspark.sql import SparkSession, SQLContext\n",
    "\n",
    "from pyspark.sql.types import *\n",
    "import pyspark.sql.functions as F\n",
    "sc = SparkContext.getOrCreate(SparkConf().setMaster(\"local[*]\"))\n",
    "from pyspark.sql import SparkSession\n",
    "spark = SparkSession \\\n",
    "    .builder \\\n",
    "    .getOrCreate()\n",
    "sqlContext = SQLContext(sc)"
   ]
  },
  {
   "cell_type": "markdown",
   "id": "96e6038b",
   "metadata": {},
   "source": [
    "# Reading the dataset and describing"
   ]
  },
  {
   "cell_type": "code",
   "execution_count": 4,
   "id": "aad7eb2e",
   "metadata": {},
   "outputs": [],
   "source": [
    "df = spark.read.format(\"csv\").option(\"header\", \"true\").load('/home/hdoop/sparkpro/waterquality.csv')"
   ]
  },
  {
   "cell_type": "code",
   "execution_count": 5,
   "id": "90792fa7",
   "metadata": {},
   "outputs": [
    {
     "name": "stdout",
     "output_type": "stream",
     "text": [
      "+------------+--------------------+-----------+----+---+---+------------+---+-------------------+--------------+--------------+\n",
      "|STATION CODE|           LOCATIONS|      STATE|TEMP| DO| pH|CONDUCTIVITY|BOD|NITRATE_N_NITRITE_N|FECAL_COLIFORM|TOTAL_COLIFORM|\n",
      "+------------+--------------------+-----------+----+---+---+------------+---+-------------------+--------------+--------------+\n",
      "|        1312|GODAVARI AT JAYAK...|MAHARASHTRA|29.2|6.4|8.1|         735|3.4|                  2|             3|            73|\n",
      "|        2177|GODAVARI RIVER NE...|MAHARASHTRA|24.5|  6|  8|         270|3.1|                  2|            72|           182|\n",
      "|        2182|GODAVARI RIVER AT...|MAHARASHTRA|25.8|5.5|7.8|         355|4.2|                  9|            59|           133|\n",
      "|        2179|GODAVARI RIVER AT...|MAHARASHTRA|24.8|5.5|7.8|         371|5.6|               3.55|            90|           283|\n",
      "|        2183|GODAVARI RIVER AT...|MAHARASHTRA|25.7|5.7|7.9|         294|3.2|               2.69|            45|           132|\n",
      "+------------+--------------------+-----------+----+---+---+------------+---+-------------------+--------------+--------------+\n",
      "only showing top 5 rows\n",
      "\n"
     ]
    }
   ],
   "source": [
    "df.show(5)"
   ]
  },
  {
   "cell_type": "code",
   "execution_count": 6,
   "id": "5b03e653",
   "metadata": {},
   "outputs": [
    {
     "data": {
      "text/plain": [
       "[('STATION CODE', 'string'),\n",
       " ('LOCATIONS', 'string'),\n",
       " ('STATE', 'string'),\n",
       " ('TEMP', 'string'),\n",
       " ('DO', 'string'),\n",
       " ('pH', 'string'),\n",
       " ('CONDUCTIVITY', 'string'),\n",
       " ('BOD', 'string'),\n",
       " ('NITRATE_N_NITRITE_N', 'string'),\n",
       " ('FECAL_COLIFORM', 'string'),\n",
       " ('TOTAL_COLIFORM', 'string')]"
      ]
     },
     "execution_count": 6,
     "metadata": {},
     "output_type": "execute_result"
    }
   ],
   "source": [
    "df.dtypes"
   ]
  },
  {
   "cell_type": "code",
   "execution_count": 7,
   "id": "dc4da72a",
   "metadata": {},
   "outputs": [
    {
     "data": {
      "text/plain": [
       "Row(STATION CODE='1312', LOCATIONS='GODAVARI AT JAYAKWADI DAM, AURNAGABAD,MAHARASHTRA', STATE='MAHARASHTRA', TEMP='29.2', DO='6.4', pH='8.1', CONDUCTIVITY='735', BOD='3.4', NITRATE_N_NITRITE_N='2', FECAL_COLIFORM='3', TOTAL_COLIFORM='73')"
      ]
     },
     "execution_count": 7,
     "metadata": {},
     "output_type": "execute_result"
    }
   ],
   "source": [
    "df.head()"
   ]
  },
  {
   "cell_type": "code",
   "execution_count": 10,
   "id": "899969a4",
   "metadata": {},
   "outputs": [
    {
     "data": {
      "text/plain": [
       "DataFrame[summary: string, STATION CODE: string, LOCATIONS: string, STATE: string, TEMP: string, DO: string, pH: string, CONDUCTIVITY: string, BOD: string, NITRATE_N_NITRITE_N: string, FECAL_COLIFORM: string, TOTAL_COLIFORM: string]"
      ]
     },
     "execution_count": 10,
     "metadata": {},
     "output_type": "execute_result"
    }
   ],
   "source": [
    "df.describe()"
   ]
  },
  {
   "cell_type": "markdown",
   "id": "9904ec84",
   "metadata": {},
   "source": [
    "# Data cleaning"
   ]
  },
  {
   "cell_type": "code",
   "execution_count": 11,
   "id": "a8637597",
   "metadata": {},
   "outputs": [],
   "source": [
    "from pyspark.sql.types import FloatType"
   ]
  },
  {
   "cell_type": "markdown",
   "id": "1daad4ac",
   "metadata": {},
   "source": [
    "As we can see above that all the columns have string data types, but for the calculation of water quality index we need to convert them in float data type. So we will convert the required columns to float data type."
   ]
  },
  {
   "cell_type": "code",
   "execution_count": 12,
   "id": "96277755",
   "metadata": {},
   "outputs": [],
   "source": [
    "df = df.withColumn(\"TEMP\",df[\"TEMP\"].cast(FloatType()))\n",
    "df = df.withColumn(\"pH\",df[\"pH\"].cast(FloatType()))\n",
    "df = df.withColumn(\"DO\",df[\"DO\"].cast(FloatType()))\n",
    "df = df.withColumn(\"CONDUCTIVITY\",df[\"CONDUCTIVITY\"].cast(FloatType()))\n",
    "df = df.withColumn(\"BOD\",df[\"BOD\"].cast(FloatType()))\n",
    "df = df.withColumn(\"NITRATE_N_NITRITE_N\",df[\"NITRATE_N_NITRITE_N\"].cast(FloatType()))\n",
    "df = df.withColumn(\"FECAL_COLIFORM\",df[\"FECAL_COLIFORM\"].cast(FloatType()))"
   ]
  },
  {
   "cell_type": "code",
   "execution_count": 13,
   "id": "ab62560e",
   "metadata": {
    "scrolled": true
   },
   "outputs": [
    {
     "data": {
      "text/plain": [
       "[('STATION CODE', 'string'),\n",
       " ('LOCATIONS', 'string'),\n",
       " ('STATE', 'string'),\n",
       " ('TEMP', 'float'),\n",
       " ('DO', 'float'),\n",
       " ('pH', 'float'),\n",
       " ('CONDUCTIVITY', 'float'),\n",
       " ('BOD', 'float'),\n",
       " ('NITRATE_N_NITRITE_N', 'float'),\n",
       " ('FECAL_COLIFORM', 'float'),\n",
       " ('TOTAL_COLIFORM', 'string')]"
      ]
     },
     "execution_count": 13,
     "metadata": {},
     "output_type": "execute_result"
    }
   ],
   "source": [
    "df.dtypes"
   ]
  },
  {
   "cell_type": "markdown",
   "id": "c331c1c5",
   "metadata": {},
   "source": [
    "Now the column TOTAL_COLIFORM is not required so we will drop this column."
   ]
  },
  {
   "cell_type": "code",
   "execution_count": 14,
   "id": "035dd995",
   "metadata": {},
   "outputs": [],
   "source": [
    "df=df.drop('TOTAL_COLIFORM')"
   ]
  },
  {
   "cell_type": "markdown",
   "id": "f19d8d1d",
   "metadata": {},
   "source": [
    "Now we have to check all the rown for nulla values and remove all the rows which contain any null value in it."
   ]
  },
  {
   "cell_type": "markdown",
   "id": "01ab1330",
   "metadata": {},
   "source": [
    " So for applying a SQL query we first have to register it has a virtual temporary table and then we will issue SQL query."
   ]
  },
  {
   "cell_type": "markdown",
   "id": "e8be1832",
   "metadata": {},
   "source": [
    "We are doing this because it is important to perform data cleaning as it will make our model to work with better prediction and accuracy."
   ]
  },
  {
   "cell_type": "code",
   "execution_count": 15,
   "id": "45b3cbb9",
   "metadata": {},
   "outputs": [],
   "source": [
    "df.createOrReplaceTempView(\"df_sql\")"
   ]
  },
  {
   "cell_type": "code",
   "execution_count": 16,
   "id": "1e28e5b4",
   "metadata": {},
   "outputs": [],
   "source": [
    "df_clean = spark.sql('''Select * from df_sql where TEMP is not null and DO is not null \n",
    "                        and pH is not null and BOD is not null and CONDUCTIVITY is not null\n",
    "                        and NITRATE_N_NITRITE_N is not null and FECAL_COLIFORM is not null''')"
   ]
  },
  {
   "cell_type": "code",
   "execution_count": 17,
   "id": "fc96c65b",
   "metadata": {},
   "outputs": [
    {
     "name": "stdout",
     "output_type": "stream",
     "text": [
      "+------------+--------------------+-----------+----+---+---+------------+---+-------------------+--------------+\n",
      "|STATION CODE|           LOCATIONS|      STATE|TEMP| DO| pH|CONDUCTIVITY|BOD|NITRATE_N_NITRITE_N|FECAL_COLIFORM|\n",
      "+------------+--------------------+-----------+----+---+---+------------+---+-------------------+--------------+\n",
      "|        1312|GODAVARI AT JAYAK...|MAHARASHTRA|29.2|6.4|8.1|       735.0|3.4|                2.0|           3.0|\n",
      "|        2177|GODAVARI RIVER NE...|MAHARASHTRA|24.5|6.0|8.0|       270.0|3.1|                2.0|          72.0|\n",
      "|        2182|GODAVARI RIVER AT...|MAHARASHTRA|25.8|5.5|7.8|       355.0|4.2|                9.0|          59.0|\n",
      "|        2179|GODAVARI RIVER AT...|MAHARASHTRA|24.8|5.5|7.8|       371.0|5.6|               3.55|          90.0|\n",
      "|        2183|GODAVARI RIVER AT...|MAHARASHTRA|25.7|5.7|7.9|       294.0|3.2|               2.69|          45.0|\n",
      "+------------+--------------------+-----------+----+---+---+------------+---+-------------------+--------------+\n",
      "only showing top 5 rows\n",
      "\n"
     ]
    }
   ],
   "source": [
    "df.show(5)"
   ]
  },
  {
   "cell_type": "markdown",
   "id": "e4413c9c",
   "metadata": {},
   "source": [
    "# EDA - Exploratory data analysis"
   ]
  },
  {
   "cell_type": "code",
   "execution_count": 18,
   "id": "ed54c03b",
   "metadata": {},
   "outputs": [],
   "source": [
    "df_clean.createOrReplaceTempView(\"df_sql\")"
   ]
  },
  {
   "cell_type": "code",
   "execution_count": 20,
   "id": "81a700bf",
   "metadata": {},
   "outputs": [],
   "source": [
    "do = spark.sql(\"Select DO from df_sql\")\n",
    "do = do.rdd.map(lambda row : row.DO).collect()\n",
    "ph = spark.sql(\"Select pH from df_sql\")\n",
    "ph = ph.rdd.map(lambda row : row.pH).collect()\n",
    "bod = spark.sql(\"Select BOD from df_sql\")\n",
    "bod = bod.rdd.map(lambda row : row.BOD).collect()\n",
    "nn = spark.sql(\"Select NITRATE_N_NITRITE_N from df_sql\")\n",
    "nn = nn.rdd.map(lambda row : row.NITRATE_N_NITRITE_N).collect()"
   ]
  },
  {
   "cell_type": "markdown",
   "id": "51e5e88b",
   "metadata": {},
   "source": [
    "Data visualization"
   ]
  },
  {
   "cell_type": "code",
   "execution_count": 21,
   "id": "f208948f",
   "metadata": {},
   "outputs": [
    {
     "data": {
      "image/png": "[encoded data removed]",
      "text/plain": [
       "<Figure size 1120x480 with 1 Axes>"
      ]
     },
     "metadata": {},
     "output_type": "display_data"
    }
   ],
   "source": [
    "fig,ax = plt.subplots(num=None,figsize=(14,6), dpi=80, facecolor='w', edgecolor='k')\n",
    "size=len(do)\n",
    "ax.plot(range(0,size), do, color='blue', animated=True, linewidth=1, label='Dissolved Oxygen')\n",
    "ax.plot(range(0,size), ph, color='red', animated=True, linewidth=1, label='pH')\n",
    "legend=ax.legend()"
   ]
  },
  {
   "cell_type": "code",
   "execution_count": 22,
   "id": "871062e7",
   "metadata": {
    "scrolled": true
   },
   "outputs": [
    {
     "data": {
      "image/png": "[encoded data removed]",
      "text/plain": [
       "<Figure size 1120x480 with 1 Axes>"
      ]
     },
     "metadata": {},
     "output_type": "display_data"
    }
   ],
   "source": [
    "fig,ax2 = plt.subplots(num=None,figsize=(14,6), dpi=80, facecolor='w', edgecolor='k')\n",
    "ax2.plot(range(0,size), bod, color='orange', animated=True, linewidth=1, label='BOD')\n",
    "ax2.plot(range(0,size), nn, color='green', animated=True, linewidth=1, label='NN')\n",
    "legend=ax2.legend()"
   ]
  },
  {
   "cell_type": "code",
   "execution_count": 23,
   "id": "d8064b46",
   "metadata": {},
   "outputs": [
    {
     "data": {
      "image/png": "[encoded data removed]",
      "text/plain": [
       "<Figure size 1120x480 with 1 Axes>"
      ]
     },
     "metadata": {},
     "output_type": "display_data"
    }
   ],
   "source": [
    "fig,ax3 = plt.subplots(num=None,figsize=(14,6), dpi=80, facecolor='w', edgecolor='k')\n",
    "ax3.plot(range(0,size), bod, color='red', animated=True, linewidth=1, label='BOD')\n",
    "ax3.plot(range(0,size), do, color='black', animated=True, linewidth=1, label='DO')\n",
    "legend=ax3.legend()"
   ]
  },
  {
   "cell_type": "code",
   "execution_count": 24,
   "id": "380c680c",
   "metadata": {},
   "outputs": [],
   "source": [
    "con = spark.sql(\"Select CONDUCTIVITY from df_sql\")\n",
    "con = con.rdd.map(lambda row : row.CONDUCTIVITY).collect()\n",
    "fec = spark.sql(\"Select FECAL_COLIFORM from df_sql\")\n",
    "fec = fec.rdd.map(lambda row : row.FECAL_COLIFORM).collect()"
   ]
  },
  {
   "cell_type": "code",
   "execution_count": 25,
   "id": "436860cd",
   "metadata": {},
   "outputs": [
    {
     "data": {
      "text/plain": [
       "[<matplotlib.lines.Line2D at 0x7fede75ae6a0>]"
      ]
     },
     "execution_count": 25,
     "metadata": {},
     "output_type": "execute_result"
    },
    {
     "data": {
      "image/png": "[encoded data removed]",
      "text/plain": [
       "<Figure size 1120x480 with 1 Axes>"
      ]
     },
     "metadata": {},
     "output_type": "display_data"
    },
    {
     "data": {
      "image/png": "[encoded data removed]",
      "text/plain": [
       "<Figure size 1120x480 with 1 Axes>"
      ]
     },
     "metadata": {},
     "output_type": "display_data"
    }
   ],
   "source": [
    "fig,ax = plt.subplots(num=None,figsize=(14,6), dpi=80, facecolor='w', edgecolor='k')\n",
    "ax.plot(range(0,size), con, color='blue', animated=True, linewidth=1)\n",
    "fig,ax2 = plt.subplots(num=None,figsize=(14,6), dpi=80, facecolor='w', edgecolor='k')\n",
    "ax2.plot(range(0,size), fec, color='red', animated=True, linewidth=1)"
   ]
  },
  {
   "cell_type": "markdown",
   "id": "bd5b0aa0",
   "metadata": {},
   "source": [
    "# Feature engineering"
   ]
  },
  {
   "cell_type": "code",
   "execution_count": 26,
   "id": "571334cb",
   "metadata": {},
   "outputs": [
    {
     "data": {
      "text/plain": [
       "STATION CODE            object\n",
       "LOCATIONS               object\n",
       "STATE                   object\n",
       "TEMP                   float32\n",
       "DO                     float32\n",
       "pH                     float32\n",
       "CONDUCTIVITY           float32\n",
       "BOD                    float32\n",
       "NITRATE_N_NITRITE_N    float32\n",
       "FECAL_COLIFORM         float32\n",
       "dtype: object"
      ]
     },
     "execution_count": 26,
     "metadata": {},
     "output_type": "execute_result"
    }
   ],
   "source": [
    "df=df_clean.toPandas()\n",
    "df.dtypes"
   ]
  },
  {
   "cell_type": "code",
   "execution_count": 27,
   "id": "212437fc",
   "metadata": {},
   "outputs": [],
   "source": [
    "start=0\n",
    "end=448\n",
    "station=df.iloc [start:end ,0]\n",
    "location=df.iloc [start:end ,1]\n",
    "state=df.iloc [start:end ,2]\n",
    "do= df.iloc [start:end ,4].astype(np.float64)\n",
    "value=0\n",
    "ph = df.iloc[ start:end,5]  \n",
    "co = df.iloc [start:end ,6].astype(np.float64)\n",
    "bod = df.iloc [start:end ,7].astype(np.float64)\n",
    "na= df.iloc [start:end ,8].astype(np.float64)\n",
    "fc=df.iloc [2:end ,9].astype(np.float64)"
   ]
  },
  {
   "cell_type": "code",
   "execution_count": 28,
   "id": "b1d27240",
   "metadata": {},
   "outputs": [],
   "source": [
    "df=pd.concat([station,location,state,do,ph,co,bod,na,fc],axis=1)\n",
    "df. columns = ['station','location','state','do','ph','co','bod','na','fc']"
   ]
  },
  {
   "cell_type": "markdown",
   "id": "8d3e8f0e",
   "metadata": {},
   "source": [
    "The Water Quality Index is calculated by aggregating the quality rating with the weight linearly:"
   ]
  },
  {
   "cell_type": "markdown",
   "id": "284a2d67",
   "metadata": {},
   "source": [
    "WQI = ∑ (qn x Wn)"
   ]
  },
  {
   "cell_type": "markdown",
   "id": "a3b2ac59",
   "metadata": {},
   "source": [
    "where qn =Quality rating for the nth Water quality parameter, Wn= unit weight for the nth parameters."
   ]
  },
  {
   "cell_type": "code",
   "execution_count": 29,
   "id": "3f99ce38",
   "metadata": {},
   "outputs": [],
   "source": [
    "df['npH']=df.ph.apply(lambda x: (100 if (8.5>=x>=7)  \n",
    "                                 else(80 if  (8.6>=x>=8.5) or (6.9>=x>=6.8) \n",
    "                                      else(60 if (8.8>=x>=8.6) or (6.8>=x>=6.7) \n",
    "                                          else(40 if (9>=x>=8.8) or (6.7>=x>=6.5)\n",
    "                                              else 0)))))"
   ]
  },
  {
   "cell_type": "code",
   "execution_count": 30,
   "id": "c482e8fd",
   "metadata": {},
   "outputs": [],
   "source": [
    "df['ndo']=df.do.apply(lambda x:(100 if (x>=6)  \n",
    "                                 else(80 if  (6>=x>=5.1) \n",
    "                                      else(60 if (5>=x>=4.1)\n",
    "                                          else(40 if (4>=x>=3) \n",
    "                                              else 0)))))"
   ]
  },
  {
   "cell_type": "code",
   "execution_count": 31,
   "id": "34068c8d",
   "metadata": {},
   "outputs": [],
   "source": [
    "df['nco']=df.fc.apply(lambda x:(100 if (5>=x>=0)  \n",
    "                                 else(80 if  (50>=x>=5) \n",
    "                                      else(60 if (500>=x>=50)\n",
    "                                          else(40 if (10000>=x>=500) \n",
    "                                              else 0)))))"
   ]
  },
  {
   "cell_type": "code",
   "execution_count": 32,
   "id": "65d501a7",
   "metadata": {},
   "outputs": [],
   "source": [
    "df['nbdo']=df.bod.apply(lambda x:(100 if (3>=x>=0)  \n",
    "                                 else(80 if  (6>=x>=3) \n",
    "                                      else(60 if (80>=x>=6)\n",
    "                                          else(40 if (125>=x>=80) \n",
    "                                              else 0)))))"
   ]
  },
  {
   "cell_type": "code",
   "execution_count": 33,
   "id": "a6aef7ec",
   "metadata": {},
   "outputs": [],
   "source": [
    "df['nec']=df.co.apply(lambda x:(100 if (75>=x>=0)  \n",
    "                                 else(80 if  (150>=x>=75) \n",
    "                                      else(60 if (225>=x>=150)\n",
    "                                          else(40 if (300>=x>=225) \n",
    "                                              else 0)))))"
   ]
  },
  {
   "cell_type": "code",
   "execution_count": 34,
   "id": "8ff19923",
   "metadata": {},
   "outputs": [],
   "source": [
    "df['nna']=df.na.apply(lambda x:(100 if (20>=x>=0)  \n",
    "                                 else(80 if  (50>=x>=20) \n",
    "                                      else(60 if (100>=x>=50)\n",
    "                                          else(40 if (200>=x>=100) \n",
    "                                              else 0)))))"
   ]
  },
  {
   "cell_type": "code",
   "execution_count": 35,
   "id": "7e9cbdd7",
   "metadata": {},
   "outputs": [
    {
     "data": {
      "text/plain": [
       "station      object\n",
       "location     object\n",
       "state        object\n",
       "do          float64\n",
       "ph          float32\n",
       "co          float64\n",
       "bod         float64\n",
       "na          float64\n",
       "fc          float64\n",
       "npH           int64\n",
       "ndo           int64\n",
       "nco           int64\n",
       "nbdo          int64\n",
       "nec           int64\n",
       "nna           int64\n",
       "dtype: object"
      ]
     },
     "execution_count": 35,
     "metadata": {},
     "output_type": "execute_result"
    }
   ],
   "source": [
    "df.head()\n",
    "df.dtypes"
   ]
  },
  {
   "cell_type": "markdown",
   "id": "2ac688e1",
   "metadata": {},
   "source": [
    "\n",
    "Now we apply the formula of wqi by first multiplying all the quality rating with its weight and then summed all the values."
   ]
  },
  {
   "cell_type": "code",
   "execution_count": 36,
   "id": "5e8c517a",
   "metadata": {},
   "outputs": [
    {
     "data": {
      "text/html": [
       "<div>\n",
       "<style scoped>\n",
       "    .dataframe tbody tr th:only-of-type {\n",
       "        vertical-align: middle;\n",
       "    }\n",
       "\n",
       "    .dataframe tbody tr th {\n",
       "        vertical-align: top;\n",
       "    }\n",
       "\n",
       "    .dataframe thead th {\n",
       "        text-align: right;\n",
       "    }\n",
       "</style>\n",
       "<table border=\"1\" class=\"dataframe\">\n",
       "  <thead>\n",
       "    <tr style=\"text-align: right;\">\n",
       "      <th></th>\n",
       "      <th>station</th>\n",
       "      <th>location</th>\n",
       "      <th>state</th>\n",
       "      <th>do</th>\n",
       "      <th>ph</th>\n",
       "      <th>co</th>\n",
       "      <th>bod</th>\n",
       "      <th>na</th>\n",
       "      <th>fc</th>\n",
       "      <th>npH</th>\n",
       "      <th>...</th>\n",
       "      <th>nbdo</th>\n",
       "      <th>nec</th>\n",
       "      <th>nna</th>\n",
       "      <th>wph</th>\n",
       "      <th>wdo</th>\n",
       "      <th>wbdo</th>\n",
       "      <th>wec</th>\n",
       "      <th>wna</th>\n",
       "      <th>wco</th>\n",
       "      <th>wqi</th>\n",
       "    </tr>\n",
       "  </thead>\n",
       "  <tbody>\n",
       "    <tr>\n",
       "      <th>0</th>\n",
       "      <td>1312</td>\n",
       "      <td>GODAVARI AT JAYAKWADI DAM, AURNAGABAD,MAHARASHTRA</td>\n",
       "      <td>MAHARASHTRA</td>\n",
       "      <td>6.4</td>\n",
       "      <td>8.1</td>\n",
       "      <td>735.0</td>\n",
       "      <td>3.4</td>\n",
       "      <td>2.00</td>\n",
       "      <td>NaN</td>\n",
       "      <td>100</td>\n",
       "      <td>...</td>\n",
       "      <td>80</td>\n",
       "      <td>0</td>\n",
       "      <td>100</td>\n",
       "      <td>16.5</td>\n",
       "      <td>28.10</td>\n",
       "      <td>18.72</td>\n",
       "      <td>0.00</td>\n",
       "      <td>2.8</td>\n",
       "      <td>0.00</td>\n",
       "      <td>66.12</td>\n",
       "    </tr>\n",
       "    <tr>\n",
       "      <th>1</th>\n",
       "      <td>2177</td>\n",
       "      <td>GODAVARI RIVER NEAR SOMESHWAR TEMPLE.</td>\n",
       "      <td>MAHARASHTRA</td>\n",
       "      <td>6.0</td>\n",
       "      <td>8.0</td>\n",
       "      <td>270.0</td>\n",
       "      <td>3.1</td>\n",
       "      <td>2.00</td>\n",
       "      <td>NaN</td>\n",
       "      <td>100</td>\n",
       "      <td>...</td>\n",
       "      <td>80</td>\n",
       "      <td>40</td>\n",
       "      <td>100</td>\n",
       "      <td>16.5</td>\n",
       "      <td>28.10</td>\n",
       "      <td>18.72</td>\n",
       "      <td>0.36</td>\n",
       "      <td>2.8</td>\n",
       "      <td>0.00</td>\n",
       "      <td>66.48</td>\n",
       "    </tr>\n",
       "    <tr>\n",
       "      <th>2</th>\n",
       "      <td>2182</td>\n",
       "      <td>GODAVARI RIVER AT SAIKHEDA.</td>\n",
       "      <td>MAHARASHTRA</td>\n",
       "      <td>5.5</td>\n",
       "      <td>7.8</td>\n",
       "      <td>355.0</td>\n",
       "      <td>4.2</td>\n",
       "      <td>9.00</td>\n",
       "      <td>59.0</td>\n",
       "      <td>100</td>\n",
       "      <td>...</td>\n",
       "      <td>80</td>\n",
       "      <td>0</td>\n",
       "      <td>100</td>\n",
       "      <td>16.5</td>\n",
       "      <td>22.48</td>\n",
       "      <td>18.72</td>\n",
       "      <td>0.00</td>\n",
       "      <td>2.8</td>\n",
       "      <td>16.86</td>\n",
       "      <td>77.36</td>\n",
       "    </tr>\n",
       "    <tr>\n",
       "      <th>3</th>\n",
       "      <td>2179</td>\n",
       "      <td>GODAVARI RIVER AT HANUMAN GHAT, NASHIK CITY.</td>\n",
       "      <td>MAHARASHTRA</td>\n",
       "      <td>5.5</td>\n",
       "      <td>7.8</td>\n",
       "      <td>371.0</td>\n",
       "      <td>5.6</td>\n",
       "      <td>3.55</td>\n",
       "      <td>90.0</td>\n",
       "      <td>100</td>\n",
       "      <td>...</td>\n",
       "      <td>80</td>\n",
       "      <td>0</td>\n",
       "      <td>100</td>\n",
       "      <td>16.5</td>\n",
       "      <td>22.48</td>\n",
       "      <td>18.72</td>\n",
       "      <td>0.00</td>\n",
       "      <td>2.8</td>\n",
       "      <td>16.86</td>\n",
       "      <td>77.36</td>\n",
       "    </tr>\n",
       "    <tr>\n",
       "      <th>4</th>\n",
       "      <td>2183</td>\n",
       "      <td>GODAVARI RIVER AT NANDUR- MADMESHWAR DAM.</td>\n",
       "      <td>MAHARASHTRA</td>\n",
       "      <td>5.7</td>\n",
       "      <td>7.9</td>\n",
       "      <td>294.0</td>\n",
       "      <td>3.2</td>\n",
       "      <td>2.69</td>\n",
       "      <td>45.0</td>\n",
       "      <td>100</td>\n",
       "      <td>...</td>\n",
       "      <td>80</td>\n",
       "      <td>40</td>\n",
       "      <td>100</td>\n",
       "      <td>16.5</td>\n",
       "      <td>22.48</td>\n",
       "      <td>18.72</td>\n",
       "      <td>0.36</td>\n",
       "      <td>2.8</td>\n",
       "      <td>22.48</td>\n",
       "      <td>83.34</td>\n",
       "    </tr>\n",
       "    <tr>\n",
       "      <th>...</th>\n",
       "      <td>...</td>\n",
       "      <td>...</td>\n",
       "      <td>...</td>\n",
       "      <td>...</td>\n",
       "      <td>...</td>\n",
       "      <td>...</td>\n",
       "      <td>...</td>\n",
       "      <td>...</td>\n",
       "      <td>...</td>\n",
       "      <td>...</td>\n",
       "      <td>...</td>\n",
       "      <td>...</td>\n",
       "      <td>...</td>\n",
       "      <td>...</td>\n",
       "      <td>...</td>\n",
       "      <td>...</td>\n",
       "      <td>...</td>\n",
       "      <td>...</td>\n",
       "      <td>...</td>\n",
       "      <td>...</td>\n",
       "      <td>...</td>\n",
       "    </tr>\n",
       "    <tr>\n",
       "      <th>442</th>\n",
       "      <td>2940</td>\n",
       "      <td>GAPE- SAGAR LAKE, DUNGARPUR, RAJASTHAN</td>\n",
       "      <td>RAJASTHAN</td>\n",
       "      <td>4.4</td>\n",
       "      <td>8.1</td>\n",
       "      <td>538.0</td>\n",
       "      <td>1.2</td>\n",
       "      <td>1.00</td>\n",
       "      <td>5.0</td>\n",
       "      <td>100</td>\n",
       "      <td>...</td>\n",
       "      <td>100</td>\n",
       "      <td>0</td>\n",
       "      <td>100</td>\n",
       "      <td>16.5</td>\n",
       "      <td>16.86</td>\n",
       "      <td>23.40</td>\n",
       "      <td>0.00</td>\n",
       "      <td>2.8</td>\n",
       "      <td>28.10</td>\n",
       "      <td>87.66</td>\n",
       "    </tr>\n",
       "    <tr>\n",
       "      <th>443</th>\n",
       "      <td>2941</td>\n",
       "      <td>LAKE JAISAMAND, SALUMBER, UDAIPUR, POINT NO. 1...</td>\n",
       "      <td>RAJASTHAN</td>\n",
       "      <td>5.6</td>\n",
       "      <td>8.4</td>\n",
       "      <td>591.0</td>\n",
       "      <td>1.1</td>\n",
       "      <td>3.00</td>\n",
       "      <td>4.0</td>\n",
       "      <td>100</td>\n",
       "      <td>...</td>\n",
       "      <td>100</td>\n",
       "      <td>0</td>\n",
       "      <td>100</td>\n",
       "      <td>16.5</td>\n",
       "      <td>22.48</td>\n",
       "      <td>23.40</td>\n",
       "      <td>0.00</td>\n",
       "      <td>2.8</td>\n",
       "      <td>28.10</td>\n",
       "      <td>93.28</td>\n",
       "    </tr>\n",
       "    <tr>\n",
       "      <th>444</th>\n",
       "      <td>2942</td>\n",
       "      <td>LAKE JAISAMAND, SALUMBER, UDAIPUR, POINT NO. 2...</td>\n",
       "      <td>RAJASTHAN</td>\n",
       "      <td>5.8</td>\n",
       "      <td>8.5</td>\n",
       "      <td>588.0</td>\n",
       "      <td>1.2</td>\n",
       "      <td>3.00</td>\n",
       "      <td>4.0</td>\n",
       "      <td>100</td>\n",
       "      <td>...</td>\n",
       "      <td>100</td>\n",
       "      <td>0</td>\n",
       "      <td>100</td>\n",
       "      <td>16.5</td>\n",
       "      <td>22.48</td>\n",
       "      <td>23.40</td>\n",
       "      <td>0.00</td>\n",
       "      <td>2.8</td>\n",
       "      <td>28.10</td>\n",
       "      <td>93.28</td>\n",
       "    </tr>\n",
       "    <tr>\n",
       "      <th>445</th>\n",
       "      <td>2943</td>\n",
       "      <td>LODHA TALAB, BANSWARA- DUNGARPUR ROAD, BANSWAR...</td>\n",
       "      <td>RAJASTHAN</td>\n",
       "      <td>4.1</td>\n",
       "      <td>7.9</td>\n",
       "      <td>1133.0</td>\n",
       "      <td>2.3</td>\n",
       "      <td>2.00</td>\n",
       "      <td>7.0</td>\n",
       "      <td>100</td>\n",
       "      <td>...</td>\n",
       "      <td>100</td>\n",
       "      <td>0</td>\n",
       "      <td>100</td>\n",
       "      <td>16.5</td>\n",
       "      <td>0.00</td>\n",
       "      <td>23.40</td>\n",
       "      <td>0.00</td>\n",
       "      <td>2.8</td>\n",
       "      <td>22.48</td>\n",
       "      <td>65.18</td>\n",
       "    </tr>\n",
       "    <tr>\n",
       "      <th>446</th>\n",
       "      <td>2944</td>\n",
       "      <td>JALMAHAL, JAIPUR, RAJASTHAN</td>\n",
       "      <td>RAJASTHAN</td>\n",
       "      <td>3.5</td>\n",
       "      <td>8.9</td>\n",
       "      <td>2004.0</td>\n",
       "      <td>6.5</td>\n",
       "      <td>1.00</td>\n",
       "      <td>13.0</td>\n",
       "      <td>40</td>\n",
       "      <td>...</td>\n",
       "      <td>60</td>\n",
       "      <td>0</td>\n",
       "      <td>100</td>\n",
       "      <td>6.6</td>\n",
       "      <td>11.24</td>\n",
       "      <td>14.04</td>\n",
       "      <td>0.00</td>\n",
       "      <td>2.8</td>\n",
       "      <td>22.48</td>\n",
       "      <td>57.16</td>\n",
       "    </tr>\n",
       "  </tbody>\n",
       "</table>\n",
       "<p>447 rows × 22 columns</p>\n",
       "</div>"
      ],
      "text/plain": [
       "    station                                           location        state  \\\n",
       "0      1312  GODAVARI AT JAYAKWADI DAM, AURNAGABAD,MAHARASHTRA  MAHARASHTRA   \n",
       "1      2177              GODAVARI RIVER NEAR SOMESHWAR TEMPLE.  MAHARASHTRA   \n",
       "2      2182                        GODAVARI RIVER AT SAIKHEDA.  MAHARASHTRA   \n",
       "3      2179       GODAVARI RIVER AT HANUMAN GHAT, NASHIK CITY.  MAHARASHTRA   \n",
       "4      2183          GODAVARI RIVER AT NANDUR- MADMESHWAR DAM.  MAHARASHTRA   \n",
       "..      ...                                                ...          ...   \n",
       "442    2940             GAPE- SAGAR LAKE, DUNGARPUR, RAJASTHAN    RAJASTHAN   \n",
       "443    2941  LAKE JAISAMAND, SALUMBER, UDAIPUR, POINT NO. 1...    RAJASTHAN   \n",
       "444    2942  LAKE JAISAMAND, SALUMBER, UDAIPUR, POINT NO. 2...    RAJASTHAN   \n",
       "445    2943  LODHA TALAB, BANSWARA- DUNGARPUR ROAD, BANSWAR...    RAJASTHAN   \n",
       "446    2944                        JALMAHAL, JAIPUR, RAJASTHAN    RAJASTHAN   \n",
       "\n",
       "      do   ph      co  bod    na    fc  npH  ...  nbdo  nec  nna   wph    wdo  \\\n",
       "0    6.4  8.1   735.0  3.4  2.00   NaN  100  ...    80    0  100  16.5  28.10   \n",
       "1    6.0  8.0   270.0  3.1  2.00   NaN  100  ...    80   40  100  16.5  28.10   \n",
       "2    5.5  7.8   355.0  4.2  9.00  59.0  100  ...    80    0  100  16.5  22.48   \n",
       "3    5.5  7.8   371.0  5.6  3.55  90.0  100  ...    80    0  100  16.5  22.48   \n",
       "4    5.7  7.9   294.0  3.2  2.69  45.0  100  ...    80   40  100  16.5  22.48   \n",
       "..   ...  ...     ...  ...   ...   ...  ...  ...   ...  ...  ...   ...    ...   \n",
       "442  4.4  8.1   538.0  1.2  1.00   5.0  100  ...   100    0  100  16.5  16.86   \n",
       "443  5.6  8.4   591.0  1.1  3.00   4.0  100  ...   100    0  100  16.5  22.48   \n",
       "444  5.8  8.5   588.0  1.2  3.00   4.0  100  ...   100    0  100  16.5  22.48   \n",
       "445  4.1  7.9  1133.0  2.3  2.00   7.0  100  ...   100    0  100  16.5   0.00   \n",
       "446  3.5  8.9  2004.0  6.5  1.00  13.0   40  ...    60    0  100   6.6  11.24   \n",
       "\n",
       "      wbdo   wec  wna    wco    wqi  \n",
       "0    18.72  0.00  2.8   0.00  66.12  \n",
       "1    18.72  0.36  2.8   0.00  66.48  \n",
       "2    18.72  0.00  2.8  16.86  77.36  \n",
       "3    18.72  0.00  2.8  16.86  77.36  \n",
       "4    18.72  0.36  2.8  22.48  83.34  \n",
       "..     ...   ...  ...    ...    ...  \n",
       "442  23.40  0.00  2.8  28.10  87.66  \n",
       "443  23.40  0.00  2.8  28.10  93.28  \n",
       "444  23.40  0.00  2.8  28.10  93.28  \n",
       "445  23.40  0.00  2.8  22.48  65.18  \n",
       "446  14.04  0.00  2.8  22.48  57.16  \n",
       "\n",
       "[447 rows x 22 columns]"
      ]
     },
     "execution_count": 36,
     "metadata": {},
     "output_type": "execute_result"
    }
   ],
   "source": [
    "df['wph']=df.npH * 0.165\n",
    "df['wdo']=df.ndo * 0.281\n",
    "df['wbdo']=df.nbdo * 0.234\n",
    "df['wec']=df.nec* 0.009\n",
    "df['wna']=df.nna * 0.028\n",
    "df['wco']=df.nco * 0.281\n",
    "df['wqi']=df.wph+df.wdo+df.wbdo+df.wec+df.wna+df.wco \n",
    "df"
   ]
  },
  {
   "cell_type": "markdown",
   "id": "285b4cc9",
   "metadata": {},
   "source": [
    "\n",
    "Now we classify the water on the basis of their water quality index"
   ]
  },
  {
   "cell_type": "code",
   "execution_count": 37,
   "id": "4a995688",
   "metadata": {},
   "outputs": [],
   "source": [
    "df['quality']=df.wqi.apply(lambda x:('Excellent' if (25>=x>=0)  \n",
    "                                 else('Good' if  (50>=x>=26) \n",
    "                                      else('Poor' if (75>=x>=51)\n",
    "                                          else('Very Poor' if (100>=x>=76) \n",
    "                                              else 'Unsuitable')))))"
   ]
  },
  {
   "cell_type": "code",
   "execution_count": 38,
   "id": "81310499",
   "metadata": {},
   "outputs": [],
   "source": [
    "spark_df = sqlContext.createDataFrame(df)"
   ]
  },
  {
   "cell_type": "code",
   "execution_count": 39,
   "id": "20fd0f91",
   "metadata": {},
   "outputs": [
    {
     "name": "stdout",
     "output_type": "stream",
     "text": [
      "+-------+--------------------+--------------+-----------------+-----------------+-----+------------------+------------------+-----+---+---+---+----+---+---+------------------+------------------+------------------+------------------+------------------+------------------+-----------------+---------+\n",
      "|station|            location|         state|               do|               ph|   co|               bod|                na|   fc|npH|ndo|nco|nbdo|nec|nna|               wph|               wdo|              wbdo|               wec|               wna|               wco|              wqi|  quality|\n",
      "+-------+--------------------+--------------+-----------------+-----------------+-----+------------------+------------------+-----+---+---+---+----+---+---+------------------+------------------+------------------+------------------+------------------+------------------+-----------------+---------+\n",
      "|   1312|GODAVARI AT JAYAK...|   MAHARASHTRA|6.400000095367432|8.100000381469727|735.0|3.4000000953674316|               2.0|  NaN|100|100|  0|  80|  0|100|              16.5|              28.1|18.720000000000002|               0.0|2.8000000000000003|               0.0|            66.12|     Poor|\n",
      "|   2177|GODAVARI RIVER NE...|   MAHARASHTRA|              6.0|              8.0|270.0|3.0999999046325684|               2.0|  NaN|100|100|  0|  80| 40|100|              16.5|              28.1|18.720000000000002|              0.36|2.8000000000000003|               0.0|            66.48|     Poor|\n",
      "|   2182|GODAVARI RIVER AT...|   MAHARASHTRA|              5.5|7.800000190734863|355.0| 4.199999809265137|               9.0| 59.0|100| 80| 60|  80|  0|100|              16.5|22.480000000000004|18.720000000000002|               0.0|2.8000000000000003|16.860000000000003|            77.36|Very Poor|\n",
      "|   2179|GODAVARI RIVER AT...|   MAHARASHTRA|              5.5|7.800000190734863|371.0| 5.599999904632568| 3.549999952316284| 90.0|100| 80| 60|  80|  0|100|              16.5|22.480000000000004|18.720000000000002|               0.0|2.8000000000000003|16.860000000000003|            77.36|Very Poor|\n",
      "|   2183|GODAVARI RIVER AT...|   MAHARASHTRA|5.699999809265137|7.900000095367432|294.0| 3.200000047683716| 2.690000057220459| 45.0|100| 80| 80|  80| 40|100|              16.5|22.480000000000004|18.720000000000002|              0.36|2.8000000000000003|22.480000000000004|            83.34|Very Poor|\n",
      "|   2181|GODAVARI RIVER AT...|   MAHARASHTRA|              4.5|              7.5|513.0|12.600000381469727| 2.299999952316284|131.0|100| 60| 60|  60|  0|100|              16.5|16.860000000000003|14.040000000000001|               0.0|2.8000000000000003|16.860000000000003|            67.06|     Poor|\n",
      "|   2180|GODAVARI RIVER NE...|   MAHARASHTRA|5.199999809265137|7.699999809265137|475.0|10.300000190734863| 1.899999976158142|122.0|100| 80| 60|  60|  0|100|              16.5|22.480000000000004|14.040000000000001|               0.0|2.8000000000000003|16.860000000000003|            72.68|     Poor|\n",
      "|   1096|GODAVARI AT PANCH...|   MAHARASHTRA|5.599999904632568|7.699999809265137|385.0| 3.799999952316284|               1.0|110.0|100| 80| 60|  80|  0|100|              16.5|22.480000000000004|18.720000000000002|               0.0|2.8000000000000003|16.860000000000003|            77.36|Very Poor|\n",
      "|   1211|GODAVARI AT NASIK...|   MAHARASHTRA|5.199999809265137|7.800000190734863|410.0| 5.199999809265137|               1.5| 77.0|100| 80| 60|  80|  0|100|              16.5|22.480000000000004|18.720000000000002|               0.0|2.8000000000000003|16.860000000000003|            77.36|Very Poor|\n",
      "|   1095|GODAVARI AT U/S O...|   MAHARASHTRA|              6.5|7.800000190734863|178.0|               2.5|1.9900000095367432| 22.0|100|100| 80| 100| 60|100|              16.5|              28.1|23.400000000000002|0.5399999999999999|2.8000000000000003|22.480000000000004|93.82000000000001|Very Poor|\n",
      "|   2160|GODAVARI RIVER AT...|   MAHARASHTRA|6.199999809265137|7.900000095367432|749.0|               3.5|              1.75|  2.0|100|100|100|  80|  0|100|              16.5|              28.1|18.720000000000002|               0.0|2.8000000000000003|              28.1|            94.22|Very Poor|\n",
      "|   2158|GODAVARI RIVER AT...|   MAHARASHTRA|6.400000095367432|              8.0|834.0| 4.699999809265137|1.7999999523162842|  2.0|100|100|100|  80|  0|100|              16.5|              28.1|18.720000000000002|               0.0|2.8000000000000003|              28.1|            94.22|Very Poor|\n",
      "|   2159|GODAVARI RIVER AT...|   MAHARASHTRA|6.199999809265137|              8.0|925.0| 4.199999809265137| 6.900000095367432|  2.0|100|100|100|  80|  0|100|              16.5|              28.1|18.720000000000002|               0.0|2.8000000000000003|              28.1|            94.22|Very Poor|\n",
      "|   2161|GODAVARI RIVER AT...|   MAHARASHTRA|              6.5|              8.0|730.0|               4.0|2.9000000953674316|  2.0|100|100|100|  80|  0|100|              16.5|              28.1|18.720000000000002|               0.0|2.8000000000000003|              28.1|            94.22|Very Poor|\n",
      "|     12|GODAVARI AT DHALE...|   MAHARASHTRA|              7.0|7.900000095367432|637.0| 4.699999809265137|               6.5|  2.0|100|100|100|  80|  0|100|              16.5|              28.1|18.720000000000002|               0.0|2.8000000000000003|              28.1|            94.22|Very Poor|\n",
      "|   1209|GODAVARI AT RAHER...|   MAHARASHTRA|6.400000095367432|              8.0|656.0|3.5999999046325684|1.7999999523162842|  3.0|100|100|100|  80|  0|100|              16.5|              28.1|18.720000000000002|               0.0|2.8000000000000003|              28.1|            94.22|Very Poor|\n",
      "|   2157|GODAVARI RIVER AT...|   MAHARASHTRA|6.599999904632568|8.100000381469727|601.0| 3.200000047683716|              6.75|  2.0|100|100|100|  80|  0|100|              16.5|              28.1|18.720000000000002|               0.0|2.8000000000000003|              28.1|            94.22|Very Poor|\n",
      "|   2360|GODAVARI AT BASAR...|ANDHRA PRADESH|              5.5|8.100000381469727|826.0|1.7000000476837158|               1.0| 27.0|100| 80| 80| 100|  0|100|              16.5|22.480000000000004|23.400000000000002|               0.0|2.8000000000000003|22.480000000000004|87.66000000000001|Very Poor|\n",
      "|   2361|GODAVARI��AT MANC...|ANDHRA PRADESH|6.900000095367432|              9.0|526.0|              12.0|               0.0|130.0| 40|100| 60|  60|  0|100|6.6000000000000005|              28.1|14.040000000000001|               0.0|2.8000000000000003|16.860000000000003|             68.4|     Poor|\n",
      "|   2362|GODAVARI AT RAMAG...|ANDHRA PRADESH|5.699999809265137|              8.5|575.0|              13.0|               0.0|240.0|100| 80| 60|  60|  0|100|              16.5|22.480000000000004|14.040000000000001|               0.0|2.8000000000000003|16.860000000000003|            72.68|     Poor|\n",
      "+-------+--------------------+--------------+-----------------+-----------------+-----+------------------+------------------+-----+---+---+---+----+---+---+------------------+------------------+------------------+------------------+------------------+------------------+-----------------+---------+\n",
      "only showing top 20 rows\n",
      "\n"
     ]
    }
   ],
   "source": [
    "spark_df.show()"
   ]
  },
  {
   "cell_type": "code",
   "execution_count": 40,
   "id": "544407aa",
   "metadata": {},
   "outputs": [],
   "source": [
    "spark_df.createOrReplaceTempView(\"df_sql\")"
   ]
  },
  {
   "cell_type": "code",
   "execution_count": 41,
   "id": "b71b0f32",
   "metadata": {},
   "outputs": [],
   "source": [
    "State = spark.sql(\"Select state from df_sql\")\n",
    "State = State.rdd.map(lambda row : row.state).collect()"
   ]
  },
  {
   "cell_type": "code",
   "execution_count": 42,
   "id": "49106907",
   "metadata": {},
   "outputs": [],
   "source": [
    "Wqi = spark.sql(\"Select wqi from df_sql\")\n",
    "Wqi = Wqi.rdd.map(lambda row : row.wqi).collect()"
   ]
  },
  {
   "cell_type": "code",
   "execution_count": 43,
   "id": "0bfcf657",
   "metadata": {},
   "outputs": [
    {
     "data": {
      "image/png": "[encoded data removed]",
      "text/plain": [
       "<Figure size 640x480 with 1 Axes>"
      ]
     },
     "metadata": {},
     "output_type": "display_data"
    }
   ],
   "source": [
    "plt.barh(State,Wqi)\n",
    "\n",
    "plt.xlabel(\"WQI\")\n",
    "plt.ylabel(\"STATES\")\n",
    "\n",
    "\n",
    "plt.show()"
   ]
  },
  {
   "cell_type": "markdown",
   "id": "2f61dcf6",
   "metadata": {},
   "source": [
    "# Modeling"
   ]
  },
  {
   "cell_type": "markdown",
   "id": "1ee447b0",
   "metadata": {},
   "source": [
    "Now we apply machine learning algorithms to predict the data."
   ]
  },
  {
   "cell_type": "markdown",
   "id": "33bb5393",
   "metadata": {},
   "source": [
    "### Linear Regression Model"
   ]
  },
  {
   "cell_type": "markdown",
   "id": "88ece625",
   "metadata": {},
   "source": [
    "First we convert the required data to predict WQI into vector form by using VectorAssembler."
   ]
  },
  {
   "cell_type": "markdown",
   "id": "f4fb67e2",
   "metadata": {},
   "source": [
    "Then we normalize our data by using Normalizer."
   ]
  },
  {
   "cell_type": "code",
   "execution_count": 44,
   "id": "e6ae70ce",
   "metadata": {},
   "outputs": [],
   "source": [
    "from pyspark.ml.feature import VectorAssembler\n",
    "from pyspark.ml.feature import Normalizer\n",
    "\n",
    "vectorAssembler = VectorAssembler(inputCols=[\"npH\",\"ndo\",\"nbdo\",\"nec\",\"nna\",\"nco\"], outputCol=\"features\")\n",
    "normalizer = Normalizer(inputCol=\"features\",outputCol=\"features_norm\")"
   ]
  },
  {
   "cell_type": "markdown",
   "id": "364cb5ef",
   "metadata": {},
   "source": [
    "Applying Linear Regresion model"
   ]
  },
  {
   "cell_type": "code",
   "execution_count": 45,
   "id": "0e21ba93",
   "metadata": {},
   "outputs": [],
   "source": [
    "from pyspark.ml.regression import LinearRegression\n",
    "lr = LinearRegression(featuresCol=\"features_norm\",labelCol=\"wqi\",maxIter=10,regParam=0.3,elasticNetParam=0.2)"
   ]
  },
  {
   "cell_type": "markdown",
   "id": "8a333141",
   "metadata": {},
   "source": [
    "Now we streamline the processes into pipeline"
   ]
  },
  {
   "cell_type": "code",
   "execution_count": 46,
   "id": "49f803c2",
   "metadata": {},
   "outputs": [],
   "source": [
    "from pyspark.ml import Pipeline"
   ]
  },
  {
   "cell_type": "code",
   "execution_count": 47,
   "id": "deb7d3b9",
   "metadata": {},
   "outputs": [],
   "source": [
    "pipeline = Pipeline(stages=[vectorAssembler,normalizer,lr])"
   ]
  },
  {
   "cell_type": "markdown",
   "id": "3e403e5b",
   "metadata": {},
   "source": [
    "Now we split the data into train and test data"
   ]
  },
  {
   "cell_type": "code",
   "execution_count": 48,
   "id": "33c12554",
   "metadata": {},
   "outputs": [],
   "source": [
    "train_data,test_data=spark_df.randomSplit([0.8,0.2])"
   ]
  },
  {
   "cell_type": "markdown",
   "id": "558f64e3",
   "metadata": {},
   "source": [
    "Fitting the data into the model"
   ]
  },
  {
   "cell_type": "code",
   "execution_count": 50,
   "id": "e20fbdf9",
   "metadata": {},
   "outputs": [],
   "source": [
    "model = pipeline.fit(train_data)"
   ]
  },
  {
   "cell_type": "markdown",
   "id": "67d52820",
   "metadata": {},
   "source": [
    "Making predictions using the model"
   ]
  },
  {
   "cell_type": "code",
   "execution_count": 51,
   "id": "819acc68",
   "metadata": {},
   "outputs": [],
   "source": [
    "predictions = model.transform(train_data)"
   ]
  },
  {
   "cell_type": "code",
   "execution_count": 52,
   "id": "e987fa97",
   "metadata": {},
   "outputs": [
    {
     "name": "stdout",
     "output_type": "stream",
     "text": [
      "+-----------------+-----------------+\n",
      "|              wqi|       prediction|\n",
      "+-----------------+-----------------+\n",
      "|82.03999999999999|82.12383086684088|\n",
      "|             82.4|81.92740963941318|\n",
      "|            66.12|67.34565604943359|\n",
      "|            66.12|67.34565604943359|\n",
      "|             82.4|81.92740963941318|\n",
      "|            77.72|77.78171638043395|\n",
      "|77.36000000000001|77.89313076930208|\n",
      "|            66.12|67.34565604943359|\n",
      "|82.03999999999999|82.12383086684088|\n",
      "|            66.12|67.34565604943359|\n",
      "|            66.12|67.34565604943359|\n",
      "|82.03999999999999|82.12383086684088|\n",
      "|82.03999999999999|82.12383086684088|\n",
      "|82.03999999999999|82.12383086684088|\n",
      "|            66.12|67.34565604943359|\n",
      "|            77.36|78.50416377454954|\n",
      "|            82.98|83.11194223770477|\n",
      "|             82.4|81.92740963941318|\n",
      "|             77.9|77.91086130834056|\n",
      "|            93.28|91.66703037750938|\n",
      "+-----------------+-----------------+\n",
      "only showing top 20 rows\n",
      "\n"
     ]
    }
   ],
   "source": [
    "predictions.select(\"wqi\",\"prediction\").show()"
   ]
  },
  {
   "cell_type": "markdown",
   "id": "34165153",
   "metadata": {},
   "source": [
    "Now we check the performance of our model"
   ]
  },
  {
   "cell_type": "code",
   "execution_count": 53,
   "id": "c8d088f7",
   "metadata": {},
   "outputs": [
    {
     "data": {
      "text/plain": [
       "0.9753564789532392"
      ]
     },
     "execution_count": 53,
     "metadata": {},
     "output_type": "execute_result"
    }
   ],
   "source": [
    "a=model.stages[2].summary.r2\n",
    "a"
   ]
  },
  {
   "cell_type": "markdown",
   "id": "6e79e01b",
   "metadata": {},
   "source": [
    "### Logistic Regression Model"
   ]
  },
  {
   "cell_type": "markdown",
   "id": "218ea66d",
   "metadata": {},
   "source": [
    "Here we are creating a logistic regression model because we don't have to predict a continuous value."
   ]
  },
  {
   "cell_type": "code",
   "execution_count": 54,
   "id": "e220a1c7",
   "metadata": {},
   "outputs": [],
   "source": [
    "from pyspark.ml.feature import StringIndexer"
   ]
  },
  {
   "cell_type": "markdown",
   "id": "3cf97a79",
   "metadata": {},
   "source": [
    "As our quality column contains values in string format so first we indexed them using StringIndexer"
   ]
  },
  {
   "cell_type": "markdown",
   "id": "8224adf9",
   "metadata": {},
   "source": [
    "Then data is converted which are required to predict water quality into vector form by using VectorAssembler"
   ]
  },
  {
   "cell_type": "markdown",
   "id": "bce4a8f0",
   "metadata": {},
   "source": [
    "Then we normalize our data by using Normalizer."
   ]
  },
  {
   "cell_type": "code",
   "execution_count": 55,
   "id": "300e453c",
   "metadata": {},
   "outputs": [],
   "source": [
    "indexer = StringIndexer(inputCol=\"quality\",outputCol=\"label\")\n",
    "vectorAssembler2 = VectorAssembler(inputCols=[\"npH\",\"ndo\",\"nbdo\",\"nec\",\"nna\",\"nco\",\"wqi\"], outputCol=\"features2\")\n",
    "normalizer2 = Normalizer(inputCol=\"features2\",outputCol=\"features_norm2\")"
   ]
  },
  {
   "cell_type": "markdown",
   "id": "abf9e014",
   "metadata": {},
   "source": [
    "Applying Logistic Regression Model"
   ]
  },
  {
   "cell_type": "code",
   "execution_count": 56,
   "id": "535512ec",
   "metadata": {},
   "outputs": [],
   "source": [
    "from pyspark.ml.classification import LogisticRegression\n",
    "lor = LogisticRegression(featuresCol=\"features_norm2\",labelCol=\"label\",maxIter=10)"
   ]
  },
  {
   "cell_type": "code",
   "execution_count": 57,
   "id": "8c9cb015",
   "metadata": {},
   "outputs": [],
   "source": [
    "pipeline2 = Pipeline(stages=[indexer,vectorAssembler2,normalizer2,lor])"
   ]
  },
  {
   "cell_type": "markdown",
   "id": "cc2f211f",
   "metadata": {},
   "source": [
    "Now we split the data into train and test data"
   ]
  },
  {
   "cell_type": "code",
   "execution_count": 58,
   "id": "5a439d8b",
   "metadata": {},
   "outputs": [],
   "source": [
    "train_data,test_data=spark_df.randomSplit([0.8,0.2])"
   ]
  },
  {
   "cell_type": "markdown",
   "id": "ca7b96ef",
   "metadata": {},
   "source": [
    "Fitting the data into the model"
   ]
  },
  {
   "cell_type": "code",
   "execution_count": 60,
   "id": "cbdd996b",
   "metadata": {},
   "outputs": [],
   "source": [
    "model2 = pipeline2.fit(train_data)"
   ]
  },
  {
   "cell_type": "markdown",
   "id": "d5373cf6",
   "metadata": {},
   "source": [
    "Making predictions using the model"
   ]
  },
  {
   "cell_type": "code",
   "execution_count": 61,
   "id": "d44ee71a",
   "metadata": {},
   "outputs": [],
   "source": [
    "predictions2 = model2.transform(train_data)"
   ]
  },
  {
   "cell_type": "code",
   "execution_count": 62,
   "id": "5dfca991",
   "metadata": {},
   "outputs": [
    {
     "name": "stdout",
     "output_type": "stream",
     "text": [
      "+-----+----------+\n",
      "|label|prediction|\n",
      "+-----+----------+\n",
      "|  0.0|       0.0|\n",
      "|  0.0|       0.0|\n",
      "|  1.0|       1.0|\n",
      "|  1.0|       1.0|\n",
      "|  1.0|       1.0|\n",
      "|  1.0|       1.0|\n",
      "|  0.0|       0.0|\n",
      "|  0.0|       0.0|\n",
      "|  0.0|       0.0|\n",
      "|  1.0|       1.0|\n",
      "|  0.0|       0.0|\n",
      "|  0.0|       0.0|\n",
      "|  1.0|       1.0|\n",
      "|  0.0|       0.0|\n",
      "|  0.0|       0.0|\n",
      "|  0.0|       0.0|\n",
      "|  0.0|       0.0|\n",
      "|  0.0|       0.0|\n",
      "|  0.0|       0.0|\n",
      "|  0.0|       0.0|\n",
      "+-----+----------+\n",
      "only showing top 20 rows\n",
      "\n"
     ]
    }
   ],
   "source": [
    "predictions2.select(\"label\",\"prediction\").show()"
   ]
  },
  {
   "cell_type": "markdown",
   "id": "48df324d",
   "metadata": {},
   "source": [
    "Now we check the performance of our model"
   ]
  },
  {
   "cell_type": "code",
   "execution_count": 64,
   "id": "deadf1ab",
   "metadata": {},
   "outputs": [
    {
     "data": {
      "text/plain": [
       "0.9972144846796658"
      ]
     },
     "execution_count": 64,
     "metadata": {},
     "output_type": "execute_result"
    }
   ],
   "source": [
    "from pyspark.ml.evaluation import MulticlassClassificationEvaluator\n",
    "eval = MulticlassClassificationEvaluator().setMetricName('accuracy').setLabelCol('label').setPredictionCol('prediction')\n",
    "b=eval.evaluate(predictions2)\n",
    "b"
   ]
  },
  {
   "cell_type": "markdown",
   "id": "e8d231f3",
   "metadata": {},
   "source": [
    "\n",
    "As the quality column is in string format so we convert our predicted data which are in numbers to their real string values and compare them with the actual data"
   ]
  },
  {
   "cell_type": "code",
   "execution_count": 65,
   "id": "65f5289e",
   "metadata": {},
   "outputs": [],
   "source": [
    "names = [\"Very Poor\",\"Poor\",\"Good\",\"Unsuitable\",\"Excellent\"]"
   ]
  },
  {
   "cell_type": "code",
   "execution_count": 68,
   "id": "5f5aaa6e",
   "metadata": {},
   "outputs": [],
   "source": [
    "predictions2.createOrReplaceTempView(\"predictions2_sql\")"
   ]
  },
  {
   "cell_type": "code",
   "execution_count": 67,
   "id": "10a84170",
   "metadata": {},
   "outputs": [],
   "source": [
    "pred = spark.sql(\"Select prediction from predictions2_sql\")\n",
    "pred = pred.rdd.map(lambda row : int(row.prediction)).collect()\n",
    "qua = spark.sql(\"Select quality from predictions2_sql\")\n",
    "qua = qua.rdd.map(lambda row : row.quality).collect()"
   ]
  },
  {
   "cell_type": "code",
   "execution_count": 69,
   "id": "de9099cd",
   "metadata": {},
   "outputs": [
    {
     "name": "stdout",
     "output_type": "stream",
     "text": [
      "Predicted: Very Poor Actual: Very Poor\n",
      "Predicted: Very Poor Actual: Very Poor\n",
      "Predicted: Poor Actual: Poor\n",
      "Predicted: Poor Actual: Poor\n",
      "Predicted: Poor Actual: Poor\n",
      "Predicted: Poor Actual: Poor\n",
      "Predicted: Very Poor Actual: Very Poor\n",
      "Predicted: Very Poor Actual: Very Poor\n",
      "Predicted: Very Poor Actual: Very Poor\n",
      "Predicted: Poor Actual: Poor\n",
      "Predicted: Very Poor Actual: Very Poor\n",
      "Predicted: Very Poor Actual: Very Poor\n",
      "Predicted: Poor Actual: Poor\n",
      "Predicted: Very Poor Actual: Very Poor\n",
      "Predicted: Very Poor Actual: Very Poor\n",
      "Predicted: Very Poor Actual: Very Poor\n",
      "Predicted: Very Poor Actual: Very Poor\n",
      "Predicted: Very Poor Actual: Very Poor\n",
      "Predicted: Very Poor Actual: Very Poor\n",
      "Predicted: Very Poor Actual: Very Poor\n",
      "Predicted: Very Poor Actual: Very Poor\n",
      "Predicted: Very Poor Actual: Very Poor\n",
      "Predicted: Very Poor Actual: Very Poor\n",
      "Predicted: Very Poor Actual: Very Poor\n",
      "Predicted: Very Poor Actual: Very Poor\n",
      "Predicted: Very Poor Actual: Very Poor\n",
      "Predicted: Good Actual: Good\n",
      "Predicted: Very Poor Actual: Very Poor\n",
      "Predicted: Poor Actual: Poor\n",
      "Predicted: Poor Actual: Poor\n",
      "Predicted: Poor Actual: Poor\n",
      "Predicted: Poor Actual: Poor\n",
      "Predicted: Very Poor Actual: Very Poor\n",
      "Predicted: Very Poor Actual: Very Poor\n",
      "Predicted: Very Poor Actual: Very Poor\n",
      "Predicted: Very Poor Actual: Very Poor\n",
      "Predicted: Very Poor Actual: Very Poor\n",
      "Predicted: Very Poor Actual: Very Poor\n",
      "Predicted: Poor Actual: Poor\n",
      "Predicted: Very Poor Actual: Very Poor\n",
      "Predicted: Very Poor Actual: Very Poor\n",
      "Predicted: Very Poor Actual: Very Poor\n",
      "Predicted: Very Poor Actual: Very Poor\n",
      "Predicted: Very Poor Actual: Very Poor\n",
      "Predicted: Very Poor Actual: Very Poor\n",
      "Predicted: Very Poor Actual: Very Poor\n",
      "Predicted: Poor Actual: Poor\n",
      "Predicted: Very Poor Actual: Very Poor\n",
      "Predicted: Poor Actual: Poor\n",
      "Predicted: Poor Actual: Poor\n",
      "Predicted: Very Poor Actual: Very Poor\n",
      "Predicted: Very Poor Actual: Very Poor\n",
      "Predicted: Very Poor Actual: Very Poor\n",
      "Predicted: Very Poor Actual: Very Poor\n",
      "Predicted: Very Poor Actual: Very Poor\n",
      "Predicted: Poor Actual: Poor\n",
      "Predicted: Very Poor Actual: Very Poor\n",
      "Predicted: Poor Actual: Poor\n",
      "Predicted: Poor Actual: Poor\n",
      "Predicted: Poor Actual: Poor\n",
      "Predicted: Poor Actual: Poor\n",
      "Predicted: Very Poor Actual: Very Poor\n",
      "Predicted: Very Poor Actual: Very Poor\n",
      "Predicted: Very Poor Actual: Very Poor\n",
      "Predicted: Very Poor Actual: Very Poor\n",
      "Predicted: Poor Actual: Poor\n",
      "Predicted: Very Poor Actual: Very Poor\n",
      "Predicted: Very Poor Actual: Very Poor\n",
      "Predicted: Very Poor Actual: Very Poor\n",
      "Predicted: Very Poor Actual: Very Poor\n",
      "Predicted: Very Poor Actual: Very Poor\n",
      "Predicted: Very Poor Actual: Very Poor\n",
      "Predicted: Very Poor Actual: Very Poor\n",
      "Predicted: Very Poor Actual: Very Poor\n",
      "Predicted: Poor Actual: Poor\n",
      "Predicted: Poor Actual: Poor\n",
      "Predicted: Very Poor Actual: Very Poor\n",
      "Predicted: Very Poor Actual: Very Poor\n",
      "Predicted: Very Poor Actual: Very Poor\n",
      "Predicted: Very Poor Actual: Very Poor\n",
      "Predicted: Very Poor Actual: Very Poor\n",
      "Predicted: Very Poor Actual: Very Poor\n",
      "Predicted: Very Poor Actual: Very Poor\n",
      "Predicted: Very Poor Actual: Very Poor\n",
      "Predicted: Very Poor Actual: Very Poor\n",
      "Predicted: Very Poor Actual: Very Poor\n",
      "Predicted: Very Poor Actual: Very Poor\n",
      "Predicted: Very Poor Actual: Very Poor\n",
      "Predicted: Very Poor Actual: Very Poor\n",
      "Predicted: Very Poor Actual: Very Poor\n",
      "Predicted: Very Poor Actual: Very Poor\n",
      "Predicted: Very Poor Actual: Very Poor\n",
      "Predicted: Very Poor Actual: Very Poor\n",
      "Predicted: Very Poor Actual: Very Poor\n",
      "Predicted: Very Poor Actual: Very Poor\n",
      "Predicted: Very Poor Actual: Very Poor\n",
      "Predicted: Very Poor Actual: Very Poor\n",
      "Predicted: Poor Actual: Poor\n",
      "Predicted: Very Poor Actual: Very Poor\n",
      "Predicted: Very Poor Actual: Very Poor\n"
     ]
    }
   ],
   "source": [
    "for x in range(100):\n",
    "    print(\"Predicted:\", names[pred[x]], \"Actual:\", qua[x])"
   ]
  },
  {
   "cell_type": "code",
   "execution_count": 70,
   "id": "224266e5",
   "metadata": {},
   "outputs": [
    {
     "data": {
      "image/png": "[encoded data removed]",
      "text/plain": [
       "<Figure size 640x480 with 1 Axes>"
      ]
     },
     "metadata": {},
     "output_type": "display_data"
    }
   ],
   "source": [
    "sns.set_theme(style='whitegrid')\n",
    "scores = pd.DataFrame(data=[[a,b]],columns=['Linear Regression', 'Logistic Regression'])\n",
    "sns.barplot(data=scores);"
   ]
  },
  {
   "cell_type": "code",
   "execution_count": null,
   "id": "371d2de1",
   "metadata": {},
   "outputs": [],
   "source": []
  }
 ],
 "metadata": {
  "kernelspec": {
   "display_name": "Python 3 (ipykernel)",
   "language": "python",
   "name": "python3"
  },
  "language_info": {
   "codemirror_mode": {
    "name": "ipython",
    "version": 3
   },
   "file_extension": ".py",
   "mimetype": "text/x-python",
   "name": "python",
   "nbconvert_exporter": "python",
   "pygments_lexer": "ipython3",
   "version": "3.8.10"
  }
 },
 "nbformat": 4,
 "nbformat_minor": 5
}
